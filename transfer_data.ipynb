{
 "metadata": {
  "language_info": {
   "codemirror_mode": {
    "name": "ipython",
    "version": 3
   },
   "file_extension": ".py",
   "mimetype": "text/x-python",
   "name": "python",
   "nbconvert_exporter": "python",
   "pygments_lexer": "ipython3",
   "version": "3.8.5"
  },
  "orig_nbformat": 2,
  "kernelspec": {
   "name": "python385jvsc74a57bd08385ea9c1b89c046143ed892d3a6417099bb117058907eb25ccd44462e08e108",
   "display_name": "Python 3.8.5 64-bit ('hawking': conda)"
  }
 },
 "nbformat": 4,
 "nbformat_minor": 2,
 "cells": [
  {
   "cell_type": "code",
   "execution_count": 1,
   "metadata": {},
   "outputs": [],
   "source": [
    "from pathlib import Path\n",
    "import shutil\n",
    "\n",
    "import numpy as np"
   ]
  },
  {
   "cell_type": "code",
   "execution_count": 2,
   "metadata": {},
   "outputs": [],
   "source": [
    "classes = [\"boxes\"]\n",
    "data_dir = Path.cwd() / \"hawking_output_dir\"\n",
    "output_dir = Path.cwd().parent / \"oidv6_data_converted_boxes\""
   ]
  },
  {
   "cell_type": "code",
   "execution_count": 3,
   "metadata": {},
   "outputs": [],
   "source": [
    "for path in (data_dir / \"images\").glob(\"*_box.jpg\"):\n",
    "    shutil.move(path, output_dir / \"images\" / \"train\" / path.name)\n",
    "    with open(data_dir / \"annotations\" / f\"{path.stem.split('_')[0]}.txt\", \"r\") as infile, open(\n",
    "        output_dir / \"labels\" / \"train\" / f\"{path.stem}.txt\", \"w\"\n",
    "    ) as outfile:\n",
    "        l = [x.split() for x in infile.read().strip().splitlines()]\n",
    "        for line_parts in np.unique(l, axis=0):\n",
    "            outfile.write(\n",
    "                f\"{classes.index(line_parts[0])} \"\n",
    "                f\"{' '.join(line_parts[1:])}\\n\"\n",
    "            )"
   ]
  }
 ]
}