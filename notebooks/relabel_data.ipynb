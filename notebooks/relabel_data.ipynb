{
 "metadata": {
  "language_info": {
   "codemirror_mode": {
    "name": "ipython",
    "version": 3
   },
   "file_extension": ".py",
   "mimetype": "text/x-python",
   "name": "python",
   "nbconvert_exporter": "python",
   "pygments_lexer": "ipython3",
   "version": "3.8.5"
  },
  "orig_nbformat": 2,
  "kernelspec": {
   "name": "python385jvsc74a57bd08385ea9c1b89c046143ed892d3a6417099bb117058907eb25ccd44462e08e108",
   "display_name": "Python 3.8.5 64-bit ('hawking': conda)"
  }
 },
 "nbformat": 4,
 "nbformat_minor": 2,
 "cells": [
  {
   "cell_type": "code",
   "execution_count": 9,
   "metadata": {},
   "outputs": [],
   "source": [
    "import os\n",
    "from pathlib import Path\n",
    "import shutil\n",
    "\n",
    "import cv2\n",
    "import numpy as np"
   ]
  },
  {
   "cell_type": "code",
   "execution_count": 2,
   "metadata": {},
   "outputs": [],
   "source": [
    "classes = [\"apple\", \"banana\", \"orange\", \"wheelchair\", \"wok\", \"box\", \"table\"]\n",
    "data_dir = Path.cwd().parent / \"oidv6_data\" / \"multidata\"\n",
    "output_dir = Path.cwd().parent / \"oidv6_data_converted_7classes\"\n",
    "original_class_name = \"kitchen_&_dining_room_table\"\n",
    "class_name = \"table\""
   ]
  },
  {
   "cell_type": "code",
   "execution_count": 15,
   "metadata": {
    "tags": []
   },
   "outputs": [],
   "source": [
    "subset = \"test\"\n",
    "for path in (data_dir / subset).glob(\"*.jpg\"):\n",
    "    shutil.copy(path, output_dir / \"images\" / subset / f\"{class_name}{path.stem[len(original_class_name):]}.jpg\")\n",
    "    curr_image = cv2.imread(str(path))\n",
    "    with open(data_dir / subset / \"labels\" / f\"{path.stem}.txt\", \"r\") as infile, open(\n",
    "        output_dir / \"labels\" / subset / f\"{class_name}{path.stem[len(original_class_name):]}.txt\", \"w\"\n",
    "    ) as outfile:\n",
    "        l = [x.split() for x in infile.read().strip().splitlines()]\n",
    "        for line_parts in np.unique(l, axis=0):\n",
    "            x_min, y_min, x_max, y_max = map(float, line_parts[1:])\n",
    "            outfile.write(\n",
    "                f\"{classes.index(class_name)} \"\n",
    "                f\"{(x_min + x_max) / 2 / curr_image.shape[1]} \"\n",
    "                f\"{(y_min + y_max) / 2 / curr_image.shape[0]} \"\n",
    "                f\"{(x_max - x_min) / curr_image.shape[1]} \"\n",
    "                f\"{(y_max - y_min) / curr_image.shape[0]}\\n\"\n",
    "            )\n",
    "\n"
   ]
  },
  {
   "cell_type": "code",
   "execution_count": 23,
   "metadata": {
    "tags": []
   },
   "outputs": [],
   "source": [
    "input_dir = Path.cwd() / \"hawking_output_dir\"\n",
    "subset = \"train\"\n",
    "\n",
    "for path in (input_dir / \"images\").glob(\"*.jpg\"):\n",
    "    shutil.copy(path, output_dir / \"images\" / subset / f\"{class_name}_{path.name}\")\n",
    "\n",
    "    with open(input_dir / \"annotations\" / f\"{path.stem.split('_')[0]}.txt\", \"r\") as infile, open(\n",
    "        output_dir / \"labels\" / subset / f\"{class_name}_{path.stem}.txt\", \"w\"\n",
    "    ) as outfile:\n",
    "        l = [x.split() for x in infile.read().strip().splitlines()]\n",
    "        for line_parts in np.unique(l, axis=0):\n",
    "            outfile.write(f\"{classes.index(class_name)} {' '.join(line_parts[1:])}\\n\")\n"
   ]
  }
 ]
}