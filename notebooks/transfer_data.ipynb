{
 "metadata": {
  "language_info": {
   "codemirror_mode": {
    "name": "ipython",
    "version": 3
   },
   "file_extension": ".py",
   "mimetype": "text/x-python",
   "name": "python",
   "nbconvert_exporter": "python",
   "pygments_lexer": "ipython3",
   "version": "3.8.5"
  },
  "orig_nbformat": 2,
  "kernelspec": {
   "name": "python385jvsc74a57bd08385ea9c1b89c046143ed892d3a6417099bb117058907eb25ccd44462e08e108",
   "display_name": "Python 3.8.5 64-bit"
  }
 },
 "nbformat": 4,
 "nbformat_minor": 2,
 "cells": [
  {
   "cell_type": "code",
   "execution_count": 1,
   "metadata": {},
   "outputs": [],
   "source": [
    "import os\n",
    "from pathlib import Path\n",
    "import shutil\n",
    "\n",
    "import cv2\n",
    "import numpy as np\n",
    "from PIL import Image\n",
    "from sklearn.model_selection import train_test_split"
   ]
  },
  {
   "source": [
    "## Transfer annotated data to cvat_annotation\n",
    "\n",
    "* Removes images with no annotations\n",
    "* Combines multiple annotation folders"
   ],
   "cell_type": "markdown",
   "metadata": {}
  },
  {
   "cell_type": "code",
   "execution_count": 2,
   "metadata": {},
   "outputs": [],
   "source": [
    "class_name = \"table\"\n",
    "class_names = [\"table\", \"gas_cylinder\", \"burner\", \"wok\", \"box\"]\n",
    "data_dirs = [\n",
    "    Path(r\"C:\\Users\\Admin\\Downloads\") / sub_dir\n",
    "    for sub_dir in (\n",
    "        \"task_label table_combined-2021_05_26_01_41_19-yolo 1.1\",\n",
    "    )\n",
    "]\n",
    "output_dir = Path.cwd().parents[1] / \"cvat_annotation\" / class_name\n",
    "data_split_dir = output_dir / \"data_split\"\n",
    "train_dir = data_split_dir / \"train\"\n",
    "test_dir = data_split_dir / \"test\"\n",
    "train_images_dir = train_dir / \"images\"\n",
    "train_labels_dir = train_dir / \"labels\"\n",
    "test_images_dir = test_dir / \"images\"\n",
    "test_labels_dir = test_dir / \"labels\"\n",
    "\n",
    "output_dir.mkdir(parents=True, exist_ok=True)\n",
    "train_images_dir.mkdir(parents=True, exist_ok=True)\n",
    "train_labels_dir.mkdir(parents=True, exist_ok=True)\n",
    "test_images_dir.mkdir(parents=True, exist_ok=True)\n",
    "test_labels_dir.mkdir(parents=True, exist_ok=True)"
   ]
  },
  {
   "cell_type": "code",
   "execution_count": 3,
   "metadata": {},
   "outputs": [],
   "source": [
    "# Convert all to jpg\n",
    "for data_dir in data_dirs:\n",
    "    for path in (data_dir / \"obj_train_data\").glob(\"*.png\"):\n",
    "        im = Image.open(path)\n",
    "        im.convert(\"RGB\").save(path.with_suffix(\".jpg\"), \"JPEG\")\n",
    "        os.remove(path)\n",
    "\n",
    "count = 0\n",
    "for data_dir in data_dirs:\n",
    "    for path in (data_dir / \"obj_train_data\").glob(\"*.jpg\"):\n",
    "        shutil.copy(path, output_dir / f\"{class_name}_scraped_{count}.jpg\")\n",
    "        shutil.copy(path.with_suffix(\".txt\"), output_dir / f\"{class_name}_scraped_{count}.txt\")\n",
    "        count += 1\n",
    "\n",
    "for path in output_dir.glob(\"*.jpg\"):\n",
    "    im = Image.open(path)\n",
    "    try:\n",
    "        if im.is_animated:\n",
    "            im.convert(\"RGB\").save(path, \"JPEG\")\n",
    "    except AttributeError:\n",
    "        pass"
   ]
  },
  {
   "cell_type": "code",
   "execution_count": 4,
   "metadata": {},
   "outputs": [],
   "source": [
    "# Split data\n",
    "image_list = list(output_dir.glob(\"*.jpg\"))\n",
    "image_train, image_test = train_test_split(image_list, test_size=0.3, random_state=1234)\n"
   ]
  },
  {
   "cell_type": "code",
   "execution_count": 5,
   "metadata": {},
   "outputs": [],
   "source": [
    "for path in image_train:\n",
    "    shutil.copy(path, train_images_dir / path.name)\n",
    "    shutil.copy(path.with_suffix(\".txt\"), train_labels_dir / f\"{path.stem}.txt\")\n",
    "\n",
    "for path in image_test:\n",
    "    shutil.copy(path, test_images_dir / path.name)\n",
    "    shutil.copy(path.with_suffix(\".txt\"), test_labels_dir / f\"{path.stem}.txt\")"
   ]
  },
  {
   "cell_type": "code",
   "execution_count": 6,
   "metadata": {},
   "outputs": [],
   "source": [
    "for path in train_labels_dir.iterdir():\n",
    "    with open(path, \"r+\") as file:\n",
    "        l = [x.split() for x in file.read().strip().splitlines()]\n",
    "        file.seek(0)\n",
    "        for line_parts in np.unique(l, axis=0):\n",
    "            file.write(f\"{class_names[int(line_parts[0])]} {' '.join(line_parts[1:])}\\n\")"
   ]
  },
  {
   "cell_type": "code",
   "execution_count": 7,
   "metadata": {},
   "outputs": [],
   "source": [
    "for path in test_labels_dir.iterdir():\n",
    "    with open(path, \"r+\") as file:\n",
    "        l = [x.split() for x in file.read().strip().splitlines()]\n",
    "        file.seek(0)\n",
    "        for line_parts in np.unique(l, axis=0):\n",
    "            file.write(f\"{class_names[int(line_parts[0])]} {' '.join(line_parts[1:])}\\n\")"
   ]
  },
  {
   "source": [
    "## Transfer from syndata to oidv6_data_converted\n",
    "\n",
    "Single class"
   ],
   "cell_type": "markdown",
   "metadata": {}
  },
  {
   "cell_type": "code",
   "execution_count": 4,
   "metadata": {},
   "outputs": [],
   "source": [
    "class_name = \"cart\"\n",
    "\n",
    "data_dir = Path.cwd().parent / \"hawking_output_dir\"\n",
    "output_dir = Path.cwd().parents[1] / f\"oidv6_data_converted_{class_name}\"\n",
    "output_image_dir = output_dir / \"images\"\n",
    "output_label_dir = output_dir / \"labels\"\n",
    "\n",
    "output_image_dir.mkdir(parents=True, exist_ok=True)\n",
    "output_label_dir.mkdir(parents=True, exist_ok=True)"
   ]
  },
  {
   "cell_type": "code",
   "execution_count": 5,
   "metadata": {},
   "outputs": [],
   "source": [
    "subset = \"train\"\n",
    "(output_image_dir / subset).mkdir(parents=True, exist_ok=True)\n",
    "(output_label_dir / subset).mkdir(parents=True, exist_ok=True)\n",
    "for path in (data_dir / \"images\").glob(\"*.jpg\"):\n",
    "    path_stem = path.stem\n",
    "    shutil.copy(path, output_image_dir / subset / f\"{class_name}_{path_stem}.jpg\")\n",
    "    with open(data_dir / \"annotations\" / f\"{path_stem.split('_')[0]}.txt\", \"r\") as infile, open(\n",
    "        output_label_dir / subset / f\"{class_name}_{path_stem}.txt\", \"w\"\n",
    "    ) as outfile:\n",
    "        l = [x.split() for x in infile.read().strip().splitlines()]\n",
    "        for line_parts in np.unique(l, axis=0):\n",
    "            outfile.write(f\"0 {' '.join(line_parts[1:])}\\n\")"
   ]
  },
  {
   "source": [
    "## Transfer from cvat annotated to oidv6_data_converted\n",
    "\n",
    "Single class"
   ],
   "cell_type": "markdown",
   "metadata": {}
  },
  {
   "cell_type": "code",
   "execution_count": 2,
   "metadata": {},
   "outputs": [],
   "source": [
    "class_name = \"burner\"\n",
    "rewrite = True\n",
    "\n",
    "data_dir = Path.cwd().parents[1] / \"cvat_annotation\"\n",
    "output_dir = Path.cwd().parents[1] / f\"oidv6_data_converted_{class_name}\"\n",
    "output_image_dir = output_dir / \"images\"\n",
    "output_label_dir = output_dir / \"labels\"\n",
    "\n",
    "output_image_dir.mkdir(parents=True, exist_ok=True)\n",
    "output_label_dir.mkdir(parents=True, exist_ok=True)"
   ]
  },
  {
   "cell_type": "code",
   "execution_count": 3,
   "metadata": {},
   "outputs": [],
   "source": [
    "for subset in (\"train\", \"test\"):\n",
    "    (output_image_dir / subset).mkdir(parents=True, exist_ok=True)\n",
    "    (output_label_dir / subset).mkdir(parents=True, exist_ok=True)\n",
    "    for path in (data_dir / class_name / \"data_split\" / subset / \"images\").glob(\"*.jpg\"):\n",
    "        shutil.copy(path, output_image_dir / subset / path.name)\n",
    "        if rewrite:\n",
    "            with open(path.parents[1] / \"labels\" / f\"{path.stem}.txt\", \"r\") as infile, open(\n",
    "                output_label_dir / subset / f\"{path.stem}.txt\", \"w\"\n",
    "            ) as outfile:\n",
    "                l = [x.split() for x in infile.read().strip().splitlines()]\n",
    "                for line_parts in np.unique(l, axis=0):\n",
    "                    if line_parts[0] == class_name:\n",
    "                        outfile.write(f\"0 {' '.join(line_parts[1:])}\\n\")\n",
    "        else:\n",
    "            shutil.copy(\n",
    "                path.parents[1] / \"labels\" / f\"{path.stem}.txt\",\n",
    "                output_label_dir / subset / f\"{path.stem}.txt\",\n",
    "            )"
   ]
  },
  {
   "source": [
    "## Transfer from cvat annotated to oidv6_data_converted\n",
    "\n",
    "Multiclass class"
   ],
   "cell_type": "markdown",
   "metadata": {}
  },
  {
   "cell_type": "code",
   "execution_count": 16,
   "metadata": {},
   "outputs": [],
   "source": [
    "class_name = \"table\"\n",
    "class_names = [\"apple\", \"banana\", \"orange\", \"wheelchair\", \"wok\", \"box\", \"table\", \"tissue\", \"gas_cylinder\", \"burner\", \"cart\"]\n",
    "\n",
    "cvat_data_dir = Path.cwd().parents[1] / \"cvat_annotation\"\n",
    "single_class_data_dir = Path.cwd().parents[1] / f\"oidv6_data_converted_{class_name}\"\n",
    "output_dir = Path.cwd().parents[1] / f\"oidv6_data_converted_{class_name}_multi\"\n",
    "output_image_dir = output_dir / \"images\"\n",
    "output_label_dir = output_dir / \"labels\"\n",
    "\n",
    "output_image_dir.mkdir(parents=True, exist_ok=True)\n",
    "output_label_dir.mkdir(parents=True, exist_ok=True)"
   ]
  },
  {
   "cell_type": "code",
   "execution_count": 17,
   "metadata": {},
   "outputs": [],
   "source": [
    "for subset in (\"train\", \"test\"):\n",
    "    (output_image_dir / subset).mkdir(parents=True, exist_ok=True)\n",
    "    (output_label_dir / subset).mkdir(parents=True, exist_ok=True)\n",
    "    for path in (cvat_data_dir / class_name / \"data_split\" / subset / \"images\").glob(\"*.jpg\"):\n",
    "        shutil.copy(path, output_image_dir / subset / path.name)\n",
    "        with open(path.parents[1] / \"labels\" / f\"{path.stem}.txt\", \"r\") as infile, open(\n",
    "            output_label_dir / subset / f\"{path.stem}.txt\", \"w\"\n",
    "        ) as outfile:\n",
    "            l = [x.split() for x in infile.read().strip().splitlines()]\n",
    "            for line_parts in np.unique(l, axis=0):\n",
    "                if line_parts[0] in class_names:\n",
    "                    outfile.write(f\"{class_names.index(line_parts[0])} {' '.join(line_parts[1:])}\\n\")"
   ]
  },
  {
   "cell_type": "code",
   "execution_count": 7,
   "metadata": {
    "tags": []
   },
   "outputs": [],
   "source": [
    "subset = \"train\"\n",
    "for path in (single_class_data_dir / \"images\" / subset).glob(f\"{class_name}_[0-9]*.jpg\"):\n",
    "    shutil.copy(path, output_image_dir / subset / path.name)\n",
    "    with open(single_class_data_dir / \"labels\" / subset / f\"{path.stem}.txt\", \"r\") as infile, open(\n",
    "            output_label_dir / subset / f\"{path.stem}.txt\", \"w\"\n",
    "        ) as outfile:\n",
    "            l = [x.split() for x in infile.read().strip().splitlines()]\n",
    "            for line_parts in np.unique(l, axis=0):\n",
    "                outfile.write(f\"{class_names.index(class_name)} {' '.join(line_parts[1:])}\\n\")"
   ]
  },
  {
   "source": [
    "## Transfer from single class oidv6_data_converted to multiclass oidv6_data_converted\n",
    "Includes relabeling"
   ],
   "cell_type": "markdown",
   "metadata": {}
  },
  {
   "cell_type": "code",
   "execution_count": 2,
   "metadata": {},
   "outputs": [],
   "source": [
    "class_name = \"gas_cylinder\"\n",
    "classes = [\"apple\", \"banana\", \"orange\", \"wheelchair\", \"wok\", \"box\", \"table\", \"tissue\", \"gas_cylinder\", \"cart\"]\n",
    "\n",
    "data_dir = Path.cwd().parents[1] / f\"oidv6_data_converted_{class_name}\"\n",
    "output_dir = Path.cwd().parents[1] / f\"oidv6_data_converted_9classes\""
   ]
  },
  {
   "cell_type": "code",
   "execution_count": 4,
   "metadata": {},
   "outputs": [],
   "source": [
    "for subset in (\"train\", \"test\"):\n",
    "    for path in (data_dir / \"images\" / subset).glob(\"*.jpg\"):\n",
    "        shutil.copy(path, output_dir / \"images\" / subset / path.name)\n",
    "        with open(data_dir / \"labels\" / subset / f\"{path.stem}.txt\", \"r\") as infile, open(\n",
    "            output_dir / \"labels\" / subset / f\"{path.stem}.txt\", \"w\"\n",
    "        ) as outfile:\n",
    "            l = [x.split() for x in infile.read().strip().splitlines()]\n",
    "            for line_parts in np.unique(l, axis=0):\n",
    "                outfile.write(\n",
    "                    f\"{classes.index(class_name)} {' '.join(line_parts[1:])}\\n\"\n",
    "                )"
   ]
  }
 ]
}