{
 "metadata": {
  "language_info": {
   "codemirror_mode": {
    "name": "ipython",
    "version": 3
   },
   "file_extension": ".py",
   "mimetype": "text/x-python",
   "name": "python",
   "nbconvert_exporter": "python",
   "pygments_lexer": "ipython3",
   "version": "3.8.5"
  },
  "orig_nbformat": 2,
  "kernelspec": {
   "name": "python385jvsc74a57bd08385ea9c1b89c046143ed892d3a6417099bb117058907eb25ccd44462e08e108",
   "display_name": "Python 3.8.5 64-bit ('hawking': conda)"
  }
 },
 "nbformat": 4,
 "nbformat_minor": 2,
 "cells": [
  {
   "cell_type": "code",
   "execution_count": 1,
   "metadata": {},
   "outputs": [],
   "source": [
    "from pathlib import Path\n",
    "\n",
    "import cv2\n",
    "import matplotlib.pyplot as plt\n",
    "import yaml"
   ]
  },
  {
   "cell_type": "code",
   "execution_count": 2,
   "metadata": {},
   "outputs": [],
   "source": [
    "data_dir = Path.cwd().parent / \"hawking_data_dir\" / \"objects_dir\"\n",
    "class_name = \"cart\""
   ]
  },
  {
   "cell_type": "code",
   "execution_count": 3,
   "metadata": {},
   "outputs": [],
   "source": [
    "def is_pure_red(pixel):\n",
    "    return pixel[0] == 0 and pixel[1] == 0 and pixel[2] == 255"
   ]
  },
  {
   "cell_type": "code",
   "execution_count": 6,
   "metadata": {
    "tags": []
   },
   "outputs": [
    {
     "output_type": "stream",
     "name": "stdout",
     "text": [
      "143 232\n189 430\n"
     ]
    }
   ],
   "source": [
    "occlusion_dict = {}\n",
    "for path in (data_dir / class_name).glob(\"*.jpg\"):\n",
    "    occlusion_dict[path.name] = []\n",
    "    if (path.parent / f\"{path.stem}_occ.png\").exists():\n",
    "        image = cv2.imread(\n",
    "            str(path.parent / f\"{path.stem}_occ.png\"), cv2.IMREAD_UNCHANGED\n",
    "        )\n",
    "        h, w = image.shape[:-1]\n",
    "        for row in range(1, h - 1):\n",
    "            for col in range(1, w - 1):\n",
    "                if (\n",
    "                    is_pure_red(image[row, col])\n",
    "                    and is_pure_red(image[row - 1, col])\n",
    "                    and is_pure_red(image[row + 1, col])\n",
    "                    and is_pure_red(image[row, col - 1])\n",
    "                    and is_pure_red(image[row, col + 1])\n",
    "                ):\n",
    "                    print(row, col)\n",
    "                    occlusion_dict[path.name].append([row / h, col / w])\n",
    "\n",
    "with open(data_dir / class_name / \"occlusion_coords.yaml\", \"w\") as outfile:\n",
    "    yaml.dump(occlusion_dict, outfile)\n"
   ]
  },
  {
   "cell_type": "code",
   "execution_count": 8,
   "metadata": {},
   "outputs": [
    {
     "output_type": "stream",
     "name": "stdout",
     "text": [
      "{'cart_1.jpg': [], 'cart_2.jpg': [], 'cart_3.jpg': [], 'cart_4.jpg': [], 'cart_5.jpg': [], 'cart_6.jpg': [], 'cart_7.jpg': [], 'cart_8.jpg': [], 'cart_render_1.jpg': [[0.4230769230769231, 0.38666666666666666], [0.5591715976331361, 0.7166666666666667]], 'cart_render_2.jpg': [], 'cart_render_3.jpg': [], 'cart_render_4.jpg': [], 'cart_render_5.jpg': [], 'cart_render_6.jpg': []}\n"
     ]
    }
   ],
   "source": [
    "data_dict = {}\n",
    "with open(data_dir / class_name / \"occlusion_coords.yaml\") as infile:\n",
    "    data_dict = yaml.safe_load(infile)\n",
    "print(data_dict)"
   ]
  }
 ]
}