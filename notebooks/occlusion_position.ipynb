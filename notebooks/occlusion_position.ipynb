{
 "metadata": {
  "language_info": {
   "codemirror_mode": {
    "name": "ipython",
    "version": 3
   },
   "file_extension": ".py",
   "mimetype": "text/x-python",
   "name": "python",
   "nbconvert_exporter": "python",
   "pygments_lexer": "ipython3",
   "version": "3.8.5"
  },
  "orig_nbformat": 2,
  "kernelspec": {
   "name": "python385jvsc74a57bd08385ea9c1b89c046143ed892d3a6417099bb117058907eb25ccd44462e08e108",
   "display_name": "Python 3.8.5 64-bit ('hawking': conda)"
  }
 },
 "nbformat": 4,
 "nbformat_minor": 2,
 "cells": [
  {
   "cell_type": "code",
   "execution_count": 9,
   "metadata": {},
   "outputs": [],
   "source": [
    "from pathlib import Path\n",
    "\n",
    "import cv2\n",
    "import matplotlib.pyplot as plt\n",
    "import yaml"
   ]
  },
  {
   "cell_type": "code",
   "execution_count": 10,
   "metadata": {},
   "outputs": [],
   "source": [
    "data_dir = Path.cwd().parent / \"hawking_data_dir\" / \"objects_dir\"\n",
    "class_name = \"cart\""
   ]
  },
  {
   "cell_type": "code",
   "execution_count": 11,
   "metadata": {},
   "outputs": [],
   "source": [
    "def is_pure_red(pixel):\n",
    "    return pixel[0] == 0 and pixel[1] == 0 and pixel[2] == 255"
   ]
  },
  {
   "cell_type": "code",
   "execution_count": 12,
   "metadata": {
    "tags": []
   },
   "outputs": [
    {
     "output_type": "stream",
     "name": "stdout",
     "text": [
      "143 232\n",
      "189 430\n",
      "71 192\n",
      "176 324\n",
      "160 378\n",
      "189 201\n",
      "239 273\n",
      "99 409\n",
      "111 245\n",
      "143 354\n",
      "201 346\n",
      "106 383\n",
      "189 277\n",
      "270 294\n"
     ]
    }
   ],
   "source": [
    "occlusion_dict = {}\n",
    "for path in (data_dir / class_name).glob(\"*.jpg\"):\n",
    "    occlusion_dict[path.name] = []\n",
    "    if (path.parent / f\"{path.stem}_occ.png\").exists():\n",
    "        image = cv2.imread(\n",
    "            str(path.parent / f\"{path.stem}_occ.png\"), cv2.IMREAD_UNCHANGED\n",
    "        )\n",
    "        h, w = image.shape[:-1]\n",
    "        for row in range(1, h - 1):\n",
    "            for col in range(1, w - 1):\n",
    "                if (\n",
    "                    is_pure_red(image[row, col])\n",
    "                    and is_pure_red(image[row - 1, col])\n",
    "                    and is_pure_red(image[row + 1, col])\n",
    "                    and is_pure_red(image[row, col - 1])\n",
    "                    and is_pure_red(image[row, col + 1])\n",
    "                ):\n",
    "                    print(row, col)\n",
    "                    occlusion_dict[path.name].append([row / h, col / w])\n",
    "\n",
    "with open(data_dir / class_name / \"occlusion_coords.yaml\", \"w\") as outfile:\n",
    "    yaml.dump(occlusion_dict, outfile)\n"
   ]
  },
  {
   "cell_type": "code",
   "execution_count": 13,
   "metadata": {},
   "outputs": [
    {
     "output_type": "stream",
     "name": "stdout",
     "text": [
      "{'cart_1.jpg': [], 'cart_2.jpg': [], 'cart_3.jpg': [], 'cart_4.jpg': [], 'cart_5.jpg': [], 'cart_6.jpg': [], 'cart_7.jpg': [], 'cart_8.jpg': [], 'cart_render_1.jpg': [[0.4230769230769231, 0.38666666666666666], [0.5591715976331361, 0.7166666666666667]], 'cart_render_2.jpg': [[0.21005917159763313, 0.32], [0.5207100591715976, 0.54]], 'cart_render_3.jpg': [[0.47337278106508873, 0.63], [0.5591715976331361, 0.335]], 'cart_render_4.jpg': [[0.7071005917159763, 0.455]], 'cart_render_5.jpg': [[0.29289940828402367, 0.6816666666666666], [0.32840236686390534, 0.4083333333333333], [0.4230769230769231, 0.59], [0.5946745562130178, 0.5766666666666667]], 'cart_render_6.jpg': [[0.3136094674556213, 0.6383333333333333], [0.5591715976331361, 0.46166666666666667], [0.7988165680473372, 0.49]]}\n"
     ]
    }
   ],
   "source": [
    "data_dict = {}\n",
    "with open(data_dir / class_name / \"occlusion_coords.yaml\") as infile:\n",
    "    data_dict = yaml.safe_load(infile)\n",
    "print(data_dict)"
   ]
  }
 ]
}