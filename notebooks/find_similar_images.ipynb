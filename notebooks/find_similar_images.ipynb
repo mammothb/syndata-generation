{
 "metadata": {
  "language_info": {
   "codemirror_mode": {
    "name": "ipython",
    "version": 3
   },
   "file_extension": ".py",
   "mimetype": "text/x-python",
   "name": "python",
   "nbconvert_exporter": "python",
   "pygments_lexer": "ipython3",
   "version": "3.8.5"
  },
  "orig_nbformat": 2,
  "kernelspec": {
   "name": "python385jvsc74a57bd08385ea9c1b89c046143ed892d3a6417099bb117058907eb25ccd44462e08e108",
   "display_name": "Python 3.8.5 64-bit ('hawking': conda)"
  }
 },
 "nbformat": 4,
 "nbformat_minor": 2,
 "cells": [
  {
   "cell_type": "code",
   "execution_count": 1,
   "metadata": {},
   "outputs": [],
   "source": [
    "import hashlib\n",
    "import os\n",
    "from pathlib import Path\n",
    "import shutil\n",
    "\n",
    "import matplotlib.pyplot as plt\n",
    "from PIL import Image"
   ]
  },
  {
   "cell_type": "code",
   "execution_count": 2,
   "metadata": {},
   "outputs": [],
   "source": [
    "class_name = \"burner\"\n",
    "data_dirs = [\n",
    "    Path.cwd().parents[1] / \"unannotated_dir\" / class_name / sub_dir\n",
    "    for sub_dir in (\"street_roasted_chestnuts\", \"street_roasted_chestnuts_1\", \"栗子車\", \"栗子車_1\", \"街邊_炒栗子_火爐\")\n",
    "]\n",
    "output_dir = Path.cwd().parents[1] / \"unannotated_dir\" / class_name / \"combined\"\n",
    "output_dir.mkdir(parents=True, exist_ok=True)"
   ]
  },
  {
   "source": [
    "## Combine data"
   ],
   "cell_type": "markdown",
   "metadata": {}
  },
  {
   "cell_type": "code",
   "execution_count": 15,
   "metadata": {},
   "outputs": [],
   "source": [
    "count = 0\n",
    "for data_dir in data_dirs:\n",
    "    for path in data_dir.iterdir():\n",
    "        shutil.copy(path, output_dir / f\"{class_name}_{count}{path.suffix}\")\n",
    "        count += 1"
   ]
  },
  {
   "source": [
    "## Remove identical image"
   ],
   "cell_type": "markdown",
   "metadata": {}
  },
  {
   "cell_type": "code",
   "execution_count": 4,
   "metadata": {},
   "outputs": [],
   "source": [
    "img_dict = {}\n",
    "removal_list = []\n",
    "for path in output_dir.iterdir():\n",
    "    with open(path, \"rb\") as infile:\n",
    "        img_hash = hashlib.sha256(infile.read()).hexdigest()\n",
    "        if img_hash in img_dict:\n",
    "            removal_list.append(path)\n",
    "        else:\n",
    "            img_dict[img_hash] = path\n",
    "\n",
    "for path in removal_list:\n",
    "    os.remove(path)"
   ]
  }
 ]
}